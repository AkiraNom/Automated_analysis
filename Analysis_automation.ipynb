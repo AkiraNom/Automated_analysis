{
  "nbformat": 4,
  "nbformat_minor": 0,
  "metadata": {
    "colab": {
      "provenance": [],
      "authorship_tag": "ABX9TyOH21LxlLWXb6EZCllzTGfX",
      "include_colab_link": true
    },
    "kernelspec": {
      "name": "python3",
      "display_name": "Python 3"
    },
    "language_info": {
      "name": "python"
    },
    "widgets": {
      "application/vnd.jupyter.widget-state+json": {
        "0a884f8fab754eca8edc7d9df65a281a": {
          "model_module": "@jupyter-widgets/controls",
          "model_name": "HBoxModel",
          "model_module_version": "1.5.0",
          "state": {
            "_dom_classes": [],
            "_model_module": "@jupyter-widgets/controls",
            "_model_module_version": "1.5.0",
            "_model_name": "HBoxModel",
            "_view_count": null,
            "_view_module": "@jupyter-widgets/controls",
            "_view_module_version": "1.5.0",
            "_view_name": "HBoxView",
            "box_style": "",
            "children": [
              "IPY_MODEL_c7df2f48979449c391cfad29a8ffbe45",
              "IPY_MODEL_5a8b556681c34296a73800506ad0e11d",
              "IPY_MODEL_a05c3c2996164595a16cef698e29d49c"
            ],
            "layout": "IPY_MODEL_6b0b357a5ada4e9d994ba7806eea5c88"
          }
        },
        "c7df2f48979449c391cfad29a8ffbe45": {
          "model_module": "@jupyter-widgets/controls",
          "model_name": "HTMLModel",
          "model_module_version": "1.5.0",
          "state": {
            "_dom_classes": [],
            "_model_module": "@jupyter-widgets/controls",
            "_model_module_version": "1.5.0",
            "_model_name": "HTMLModel",
            "_view_count": null,
            "_view_module": "@jupyter-widgets/controls",
            "_view_module_version": "1.5.0",
            "_view_name": "HTMLView",
            "description": "",
            "description_tooltip": null,
            "layout": "IPY_MODEL_12ad4941ce904e609a78bd7e0f2ee2bc",
            "placeholder": "​",
            "style": "IPY_MODEL_ba31c03808c14cdd9f61b1e97bdda800",
            "value": "100%"
          }
        },
        "5a8b556681c34296a73800506ad0e11d": {
          "model_module": "@jupyter-widgets/controls",
          "model_name": "FloatProgressModel",
          "model_module_version": "1.5.0",
          "state": {
            "_dom_classes": [],
            "_model_module": "@jupyter-widgets/controls",
            "_model_module_version": "1.5.0",
            "_model_name": "FloatProgressModel",
            "_view_count": null,
            "_view_module": "@jupyter-widgets/controls",
            "_view_module_version": "1.5.0",
            "_view_name": "ProgressView",
            "bar_style": "success",
            "description": "",
            "description_tooltip": null,
            "layout": "IPY_MODEL_93bccaa646504152ab15ee645eb2ff69",
            "max": 42,
            "min": 0,
            "orientation": "horizontal",
            "style": "IPY_MODEL_8eb224c669ca46bc88fbf187d4e38c07",
            "value": 42
          }
        },
        "a05c3c2996164595a16cef698e29d49c": {
          "model_module": "@jupyter-widgets/controls",
          "model_name": "HTMLModel",
          "model_module_version": "1.5.0",
          "state": {
            "_dom_classes": [],
            "_model_module": "@jupyter-widgets/controls",
            "_model_module_version": "1.5.0",
            "_model_name": "HTMLModel",
            "_view_count": null,
            "_view_module": "@jupyter-widgets/controls",
            "_view_module_version": "1.5.0",
            "_view_name": "HTMLView",
            "description": "",
            "description_tooltip": null,
            "layout": "IPY_MODEL_1649a130062542c581f5fd80fddfeb7b",
            "placeholder": "​",
            "style": "IPY_MODEL_848edf249f6a46d3a3d756e4f87267d2",
            "value": " 42/42 [00:00&lt;00:00, 109.92it/s]"
          }
        },
        "6b0b357a5ada4e9d994ba7806eea5c88": {
          "model_module": "@jupyter-widgets/base",
          "model_name": "LayoutModel",
          "model_module_version": "1.2.0",
          "state": {
            "_model_module": "@jupyter-widgets/base",
            "_model_module_version": "1.2.0",
            "_model_name": "LayoutModel",
            "_view_count": null,
            "_view_module": "@jupyter-widgets/base",
            "_view_module_version": "1.2.0",
            "_view_name": "LayoutView",
            "align_content": null,
            "align_items": null,
            "align_self": null,
            "border": null,
            "bottom": null,
            "display": null,
            "flex": null,
            "flex_flow": null,
            "grid_area": null,
            "grid_auto_columns": null,
            "grid_auto_flow": null,
            "grid_auto_rows": null,
            "grid_column": null,
            "grid_gap": null,
            "grid_row": null,
            "grid_template_areas": null,
            "grid_template_columns": null,
            "grid_template_rows": null,
            "height": null,
            "justify_content": null,
            "justify_items": null,
            "left": null,
            "margin": null,
            "max_height": null,
            "max_width": null,
            "min_height": null,
            "min_width": null,
            "object_fit": null,
            "object_position": null,
            "order": null,
            "overflow": null,
            "overflow_x": null,
            "overflow_y": null,
            "padding": null,
            "right": null,
            "top": null,
            "visibility": null,
            "width": null
          }
        },
        "12ad4941ce904e609a78bd7e0f2ee2bc": {
          "model_module": "@jupyter-widgets/base",
          "model_name": "LayoutModel",
          "model_module_version": "1.2.0",
          "state": {
            "_model_module": "@jupyter-widgets/base",
            "_model_module_version": "1.2.0",
            "_model_name": "LayoutModel",
            "_view_count": null,
            "_view_module": "@jupyter-widgets/base",
            "_view_module_version": "1.2.0",
            "_view_name": "LayoutView",
            "align_content": null,
            "align_items": null,
            "align_self": null,
            "border": null,
            "bottom": null,
            "display": null,
            "flex": null,
            "flex_flow": null,
            "grid_area": null,
            "grid_auto_columns": null,
            "grid_auto_flow": null,
            "grid_auto_rows": null,
            "grid_column": null,
            "grid_gap": null,
            "grid_row": null,
            "grid_template_areas": null,
            "grid_template_columns": null,
            "grid_template_rows": null,
            "height": null,
            "justify_content": null,
            "justify_items": null,
            "left": null,
            "margin": null,
            "max_height": null,
            "max_width": null,
            "min_height": null,
            "min_width": null,
            "object_fit": null,
            "object_position": null,
            "order": null,
            "overflow": null,
            "overflow_x": null,
            "overflow_y": null,
            "padding": null,
            "right": null,
            "top": null,
            "visibility": null,
            "width": null
          }
        },
        "ba31c03808c14cdd9f61b1e97bdda800": {
          "model_module": "@jupyter-widgets/controls",
          "model_name": "DescriptionStyleModel",
          "model_module_version": "1.5.0",
          "state": {
            "_model_module": "@jupyter-widgets/controls",
            "_model_module_version": "1.5.0",
            "_model_name": "DescriptionStyleModel",
            "_view_count": null,
            "_view_module": "@jupyter-widgets/base",
            "_view_module_version": "1.2.0",
            "_view_name": "StyleView",
            "description_width": ""
          }
        },
        "93bccaa646504152ab15ee645eb2ff69": {
          "model_module": "@jupyter-widgets/base",
          "model_name": "LayoutModel",
          "model_module_version": "1.2.0",
          "state": {
            "_model_module": "@jupyter-widgets/base",
            "_model_module_version": "1.2.0",
            "_model_name": "LayoutModel",
            "_view_count": null,
            "_view_module": "@jupyter-widgets/base",
            "_view_module_version": "1.2.0",
            "_view_name": "LayoutView",
            "align_content": null,
            "align_items": null,
            "align_self": null,
            "border": null,
            "bottom": null,
            "display": null,
            "flex": null,
            "flex_flow": null,
            "grid_area": null,
            "grid_auto_columns": null,
            "grid_auto_flow": null,
            "grid_auto_rows": null,
            "grid_column": null,
            "grid_gap": null,
            "grid_row": null,
            "grid_template_areas": null,
            "grid_template_columns": null,
            "grid_template_rows": null,
            "height": null,
            "justify_content": null,
            "justify_items": null,
            "left": null,
            "margin": null,
            "max_height": null,
            "max_width": null,
            "min_height": null,
            "min_width": null,
            "object_fit": null,
            "object_position": null,
            "order": null,
            "overflow": null,
            "overflow_x": null,
            "overflow_y": null,
            "padding": null,
            "right": null,
            "top": null,
            "visibility": null,
            "width": null
          }
        },
        "8eb224c669ca46bc88fbf187d4e38c07": {
          "model_module": "@jupyter-widgets/controls",
          "model_name": "ProgressStyleModel",
          "model_module_version": "1.5.0",
          "state": {
            "_model_module": "@jupyter-widgets/controls",
            "_model_module_version": "1.5.0",
            "_model_name": "ProgressStyleModel",
            "_view_count": null,
            "_view_module": "@jupyter-widgets/base",
            "_view_module_version": "1.2.0",
            "_view_name": "StyleView",
            "bar_color": null,
            "description_width": ""
          }
        },
        "1649a130062542c581f5fd80fddfeb7b": {
          "model_module": "@jupyter-widgets/base",
          "model_name": "LayoutModel",
          "model_module_version": "1.2.0",
          "state": {
            "_model_module": "@jupyter-widgets/base",
            "_model_module_version": "1.2.0",
            "_model_name": "LayoutModel",
            "_view_count": null,
            "_view_module": "@jupyter-widgets/base",
            "_view_module_version": "1.2.0",
            "_view_name": "LayoutView",
            "align_content": null,
            "align_items": null,
            "align_self": null,
            "border": null,
            "bottom": null,
            "display": null,
            "flex": null,
            "flex_flow": null,
            "grid_area": null,
            "grid_auto_columns": null,
            "grid_auto_flow": null,
            "grid_auto_rows": null,
            "grid_column": null,
            "grid_gap": null,
            "grid_row": null,
            "grid_template_areas": null,
            "grid_template_columns": null,
            "grid_template_rows": null,
            "height": null,
            "justify_content": null,
            "justify_items": null,
            "left": null,
            "margin": null,
            "max_height": null,
            "max_width": null,
            "min_height": null,
            "min_width": null,
            "object_fit": null,
            "object_position": null,
            "order": null,
            "overflow": null,
            "overflow_x": null,
            "overflow_y": null,
            "padding": null,
            "right": null,
            "top": null,
            "visibility": null,
            "width": null
          }
        },
        "848edf249f6a46d3a3d756e4f87267d2": {
          "model_module": "@jupyter-widgets/controls",
          "model_name": "DescriptionStyleModel",
          "model_module_version": "1.5.0",
          "state": {
            "_model_module": "@jupyter-widgets/controls",
            "_model_module_version": "1.5.0",
            "_model_name": "DescriptionStyleModel",
            "_view_count": null,
            "_view_module": "@jupyter-widgets/base",
            "_view_module_version": "1.2.0",
            "_view_name": "StyleView",
            "description_width": ""
          }
        }
      }
    }
  },
  "cells": [
    {
      "cell_type": "markdown",
      "metadata": {
        "id": "view-in-github",
        "colab_type": "text"
      },
      "source": [
        "<a href=\"https://colab.research.google.com/github/AkiraNom/Automated_analysis/blob/main/Analysis_automation.ipynb\" target=\"_parent\"><img src=\"https://colab.research.google.com/assets/colab-badge.svg\" alt=\"Open In Colab\"/></a>"
      ]
    },
    {
      "cell_type": "code",
      "execution_count": 1,
      "metadata": {
        "colab": {
          "base_uri": "https://localhost:8080/"
        },
        "id": "iYFIHcGUnCTD",
        "outputId": "5541c513-7482-441e-e441-e80315b8b949"
      },
      "outputs": [
        {
          "output_type": "stream",
          "name": "stdout",
          "text": [
            "Mounted at /content/drive\n"
          ]
        }
      ],
      "source": [
        "from google.colab import drive\n",
        "drive.mount('/content/drive')"
      ]
    },
    {
      "cell_type": "code",
      "source": [
        "import glob\n",
        "import pandas as pd\n",
        "import matplotlib.pyplot as plt\n",
        "import seaborn as sns\n",
        "import scipy.stats as stats\n",
        "import time\n",
        "\n",
        "# pip3 install chardet\n",
        "import chardet\n",
        "\n",
        "# libraries for creating a pdf file\n",
        "import fpdf\n",
        "from fpdf import FPDF\n",
        "import dataframe_image as dfi\n",
        "\n",
        "from tqdm.notebook import tqdm"
      ],
      "metadata": {
        "id": "f3v99JFRnVW4"
      },
      "execution_count": 2,
      "outputs": []
    },
    {
      "cell_type": "code",
      "source": [
        "file_paths = glob.glob('./drive/MyDrive/ECG_files/ExpID*.csv')"
      ],
      "metadata": {
        "id": "WRGxm9UWpyPt"
      },
      "execution_count": 3,
      "outputs": []
    },
    {
      "cell_type": "code",
      "source": [
        "# define a folder path\n",
        "def get_file_paths(folder_path):\n",
        "  return glob.glob(f'{folder_path}ExpID*.csv')\n",
        "\n",
        "# check encoding type in csv\n",
        "'''\n",
        "CSV files exported by LabChart, ADInstrument are 'ISO-8859-1'.\n",
        "In case you do not change an encoding option, 'UnicodeDecodeError' will be raised.\n",
        "To avoid a error, check an encoding option before reading a file with pandas\n",
        "'''\n",
        "def get_csv_encoding(file_path):\n",
        "  with open(file_path, \"rb\") as file:\n",
        "    # Read the csv file in binary and check the encoding\n",
        "    result = chardet.detect(file.read())\n",
        "    encoding = result[\"encoding\"]\n",
        "  return encoding\n",
        "\n",
        "# Read multiple CSV files and create a DataFrame\n",
        "def read_csv_files(file_paths):\n",
        "    dfs = []\n",
        "\n",
        "    print('reading csv files...')\n",
        "    for file_path in tqdm(file_paths):\n",
        "      try:\n",
        "        # specify rows and columns to import\n",
        "        import_rows = [0,1]\n",
        "        import_cols = list(range(9))\n",
        "\n",
        "        # check csv encoding type\n",
        "        encoding = get_csv_encoding(file_path)\n",
        "\n",
        "        df = pd.read_csv(file_path,\n",
        "                         index_col = 0,\n",
        "                         usecols=import_cols,\n",
        "                         skiprows = lambda x: x not in import_rows,\n",
        "                         encoding=encoding\n",
        "                        )\n",
        "        # add experimental ID\n",
        "        myid = int(file_path[-8:-4])\n",
        "        idx = 0\n",
        "        df.insert(loc=idx,column = 'Exp_Id', value = myid)\n",
        "        dfs.append(df)\n",
        "\n",
        "      except UnicodeDecodeError:\n",
        "        myid = int(file_path[-8:-4])\n",
        "        print (f'Encording type error for id {myid}')\n",
        "\n",
        "    return pd.concat(dfs, axis=0, ignore_index=True)\n",
        "\n",
        "# convert obj to datetime\n",
        "def convert_datetime(data):\n",
        "  \"\"\"\n",
        "  The timedate column contains the recording date and time.\n",
        "  This function extracts dates and converts them to DateTime in pandas\n",
        "  \"\"\"\n",
        "  dates = pd.to_datetime(data.TimeDate.apply(lambda x : x.split(' ')[0]), format='%m/%d/%Y')\n",
        "  data.TimeDate = dates.dt.strftime('%Y/%m/%d')\n",
        "\n",
        "  return data\n",
        "\n",
        "# Read meta data\n",
        "def read_meta_file(folder_path):\n",
        "  file_path = glob.glob(f'{folder_path}meta*.csv')[0]\n",
        "  try:\n",
        "    return pd.read_csv(file_path)\n",
        "\n",
        "  except FileNotFoundError:\n",
        "    print('Meta info is not present')\n",
        "\n",
        "# Run normality test on each column\n",
        "def run_normality_tests(data):\n",
        "    normality_results = {}\n",
        "    for column in data.columns:\n",
        "        _, p_value = stats.normaltest(data[column])\n",
        "        if p_value < 0.05:\n",
        "            normality_results[column] = False  # Not normally distributed\n",
        "        else:\n",
        "            normality_results[column] = True  # Normally distributed\n",
        "    return normality_results\n",
        "\n",
        "# Run appropriate statistical tests based on normality\n",
        "def run_statistical_tests(data, group_column):\n",
        "    groups = data[group_column].unique()\n",
        "    p_values = {}\n",
        "\n",
        "    if len(groups) ==2:\n",
        "      group1 = data[data[group_column] == groups[0]]\n",
        "      group2 = data[data[group_column] == groups[1]]\n",
        "\n",
        "      results = {}\n",
        "      for column in data.columns:\n",
        "        if column == group_column:\n",
        "          continue  # Skip the grouping column itself\n",
        "\n",
        "        if normality_results[column]:\n",
        "            _, p_value = stats.ttest_ind(group1[column], group2[column])\n",
        "        else:\n",
        "            _, p_value = stats.mannwhitneyu(group1[column], group2[column])\n",
        "\n",
        "        p_values[column] = p_value\n",
        "\n",
        "    else:\n",
        "        return None # for multi-grouop comparison as needed\n",
        "\n",
        "    return p_values\n",
        "\n",
        "\n",
        "# Create barplots for each column\n",
        "def create_barplots(data, group_column, target_column):\n",
        "\n",
        "  fig, ax = plt.subplots(figsize=(7, 5))\n",
        "\n",
        "  palette = [ \"#b22222\", \"#0000cd\"]\n",
        "\n",
        "  ax = sns.barplot(\n",
        "      x=group_column,\n",
        "      y=target_column,\n",
        "      data=df,\n",
        "      errorbar=\"sd\",\n",
        "      palette=palette,\n",
        "      edgecolor=\"black\",\n",
        "      errcolor=\"black\",\n",
        "      errwidth=1.5,\n",
        "      capsize = 0.1,\n",
        "      alpha=0.5\n",
        "  )\n",
        "\n",
        "  sns.swarmplot(\n",
        "      x=group_column,\n",
        "      y=target_column,\n",
        "      data=df,\n",
        "      palette='dark:black',\n",
        "      ax=ax\n",
        "      )\n",
        "\n",
        "  # remove extra legend handles\n",
        "  handles, labels = ax.get_legend_handles_labels()\n",
        "  ax.set_title(f'{target_column}')\n",
        "\n",
        "  # save the plot\n",
        "  # plt.savefig(f\"bar_plot_{target_column}.png\", dpi=300, bbox_inches='tight', pad_inches=0)\n",
        "\n",
        "\n",
        "\n",
        "\n",
        "# if __name__ == \"__main__\":\n",
        "#     # Replace 'file1.csv', 'file2.csv', etc. with your CSV file paths\n",
        "#     file_paths = ['file1.csv', 'file2.csv']\n",
        "\n",
        "#     # Step 1: Read CSV files and create a DataFrame\n",
        "#     df = read_csv_files(file_paths)\n",
        "\n",
        "#     # Step 2: Run normality tests on each column\n",
        "#     normality_results = run_normality_tests(df)\n",
        "\n",
        "#     # Step 3: Perform statistical tests based on normality\n",
        "#     group_column = 'Group'  # Replace with the actual column name\n",
        "#     target_column = 'Data'  # Replace with the actual column name\n",
        "#     p_value = run_statistical_tests(df, group_column, target_column)\n",
        "\n",
        "#     if p_value is not None:\n",
        "#         if p_value < 0.05:\n",
        "#             print(f\"The groups are statistically different (p-value = {p_value})\")\n",
        "#         else:\n",
        "#             print(f\"No significant difference between groups (p-value = {p_value})\")\n",
        "\n",
        "#     # Step 4: Create interactive plots\n",
        "#     create_interactive_plot(df, x_column=group_column, y_column=target_column)\n"
      ],
      "metadata": {
        "id": "EbzGYIJKpmTn"
      },
      "execution_count": 102,
      "outputs": []
    },
    {
      "cell_type": "code",
      "source": [
        "target_column = 'RR Interval (ms)'\n",
        "create_barplots(df, group_column=group_column, target_column=target_column)\n"
      ],
      "metadata": {
        "colab": {
          "base_uri": "https://localhost:8080/",
          "height": 524
        },
        "id": "E0bXtvUp8ii4",
        "outputId": "34c1f1f3-84a6-4469-ae35-085ca603272f"
      },
      "execution_count": 103,
      "outputs": [
        {
          "output_type": "stream",
          "name": "stderr",
          "text": [
            "<ipython-input-102-36048918fada>:137: FutureWarning: Passing `palette` without assigning `hue` is deprecated.\n",
            "  sns.swarmplot(\n"
          ]
        },
        {
          "output_type": "display_data",
          "data": {
            "text/plain": [
              "<Figure size 700x500 with 1 Axes>"
            ],
            "image/png": "[encoded data removed]"
          },
          "metadata": {}
        }
      ]
    },
    {
      "cell_type": "code",
      "source": [
        "# Get a folder path\n",
        "folder_path = './drive/MyDrive/ECG_files/'\n",
        "file_paths = get_file_paths(folder_path)\n",
        "\n",
        "# Read CSV files and create a DataFrame\n",
        "df = read_csv_files(file_paths)\n",
        "\n",
        "df = convert_datetime(df)\n",
        "\n",
        "meta = read_meta_file(folder_path)\n",
        "df = meta.merge(df, how='left')\n",
        "\n",
        "# Run normality tests on each column\n",
        "normality_results = run_normality_tests(df.iloc[:,3:])\n",
        "\n",
        "# Perform statistical tests based on normality\n",
        "group_column = 'Condition'\n",
        "\n",
        "# trim two unnecessary cols\n",
        "cols_drop = ['Exp_Id','TimeDate']\n",
        "df_analysis = df.drop(cols_drop,axis=1)\n",
        "p_values = run_statistical_tests(df_analysis, group_column)\n",
        "\n",
        "for column, p_value in p_values.items():\n",
        "\n",
        "  print(f\"Column: {column}\")\n",
        "  if p_value < 0.05:\n",
        "      print(f\"Statistical difference between conditions (p-value = {p_value})\")\n",
        "  else:\n",
        "      print(f\"No significant difference between conditions (p-value = {p_value})\")\n",
        "\n",
        "# Create plots\n",
        "target_column = 'RR Interval (ms)'\n",
        "create_barplots(df, group_column=group_column, target_column=target_column)\n"
      ],
      "metadata": {
        "colab": {
          "base_uri": "https://localhost:8080/",
          "height": 833,
          "referenced_widgets": [
            "0a884f8fab754eca8edc7d9df65a281a",
            "c7df2f48979449c391cfad29a8ffbe45",
            "5a8b556681c34296a73800506ad0e11d",
            "a05c3c2996164595a16cef698e29d49c",
            "6b0b357a5ada4e9d994ba7806eea5c88",
            "12ad4941ce904e609a78bd7e0f2ee2bc",
            "ba31c03808c14cdd9f61b1e97bdda800",
            "93bccaa646504152ab15ee645eb2ff69",
            "8eb224c669ca46bc88fbf187d4e38c07",
            "1649a130062542c581f5fd80fddfeb7b",
            "848edf249f6a46d3a3d756e4f87267d2"
          ]
        },
        "id": "kKN4xB1WoOq-",
        "outputId": "109bde98-ae05-464d-808b-22e4d1580df8"
      },
      "execution_count": 47,
      "outputs": [
        {
          "output_type": "stream",
          "name": "stdout",
          "text": [
            "reading csv files...\n"
          ]
        },
        {
          "output_type": "display_data",
          "data": {
            "text/plain": [
              "  0%|          | 0/42 [00:00<?, ?it/s]"
            ],
            "application/vnd.jupyter.widget-view+json": {
              "version_major": 2,
              "version_minor": 0,
              "model_id": "0a884f8fab754eca8edc7d9df65a281a"
            }
          },
          "metadata": {}
        },
        {
          "output_type": "stream",
          "name": "stdout",
          "text": [
            "Column: RR Interval (ms)\n",
            "No significant difference between conditions (p-value = 0.06144879474834282)\n",
            "Column: Heart Rate (BPM)\n",
            "No significant difference between conditions (p-value = 0.061459314919260724)\n",
            "Column: PR Interval (ms)\n",
            "No significant difference between conditions (p-value = 0.10642610517205131)\n",
            "Column: P Duration (ms)\n",
            "Statistical difference between conditions (p-value = 3.7864461997683543e-07)\n",
            "Column: QRS Interval (ms)\n",
            "No significant difference between conditions (p-value = 0.6922760376656696)\n",
            "Column: QT Interval (ms)\n",
            "No significant difference between conditions (p-value = 0.6859461851755858)\n",
            "Column: QTc (ms)\n",
            "Statistical difference between conditions (p-value = 4.670846917342462e-08)\n"
          ]
        },
        {
          "output_type": "execute_result",
          "data": {
            "text/plain": [
              "(<Figure size 700x500 with 1 Axes>,\n",
              " <Axes: title={'center': 'RR Interval (ms)'}, xlabel='Condition', ylabel='RR Interval (ms)'>)"
            ]
          },
          "metadata": {},
          "execution_count": 47
        },
        {
          "output_type": "display_data",
          "data": {
            "text/plain": [
              "<Figure size 700x500 with 1 Axes>"
            ],
            "image/png": "[encoded data removed]"
          },
          "metadata": {}
        }
      ]
    },
    {
      "cell_type": "code",
      "source": [
        "p_values"
      ],
      "metadata": {
        "id": "gN-NPh5-1GGS",
        "colab": {
          "base_uri": "https://localhost:8080/"
        },
        "outputId": "73ca851d-01c9-493e-ae63-3cde7c54c089"
      },
      "execution_count": 9,
      "outputs": [
        {
          "output_type": "execute_result",
          "data": {
            "text/plain": [
              "{'RR Interval (ms)': 0.06144879474834282,\n",
              " 'Heart Rate (BPM)': 0.061459314919260724,\n",
              " 'PR Interval (ms)': 0.10642610517205131,\n",
              " 'P Duration (ms)': 3.7864461997683543e-07,\n",
              " 'QRS Interval (ms)': 0.6922760376656696,\n",
              " 'QT Interval (ms)': 0.6859461851755858,\n",
              " 'QTc (ms)': 4.670846917342462e-08}"
            ]
          },
          "metadata": {},
          "execution_count": 9
        }
      ]
    },
    {
      "cell_type": "code",
      "source": [
        "first_date, last_date = df.TimeDate.min(), df.TimeDate.max()\n",
        "first_date, last_date\n"
      ],
      "metadata": {
        "colab": {
          "base_uri": "https://localhost:8080/"
        },
        "id": "VKvxAONWoXQK",
        "outputId": "d681216b-e9f4-401a-80eb-5494ee211e9f"
      },
      "execution_count": 86,
      "outputs": [
        {
          "output_type": "execute_result",
          "data": {
            "text/plain": [
              "('2021/10/26', '2022/05/03')"
            ]
          },
          "metadata": {},
          "execution_count": 86
        }
      ]
    }
  ]
}